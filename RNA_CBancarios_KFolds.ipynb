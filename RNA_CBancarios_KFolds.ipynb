{
 "cells": [
  {
   "cell_type": "markdown",
   "metadata": {},
   "source": [
    "# Análisis de clientes bancarios\n",
    "\n",
    "Esta es la segunda versión del modelo **RNA** usando **K-folds cross validation**. "
   ]
  },
  {
   "cell_type": "markdown",
   "metadata": {},
   "source": [
    "## 1. Sesgo y varianza\n",
    "**Sesgo:** El sesgo se define como la diferencia entre el valor real y, y el valor calculado y_hat en el **entrenamiento**. Esta medida esta inversamente relacionada con la complejidad de los modelos. A mayor complejidad del modelo, obtendremos un bajo sesgo. En el caso de redes neuronales aumentar la complejidad esta relasionado con aumentar el número de capas y la cantidad de neuronas dentro de cada capa. Se debe recordar que a medida que aumentamos la complejidad incurriremos en overfitting. Si lo analisas de manera mas consiente tiene logica, pues al sobre entrenar el modelo, las predicciones seran exactamente o casi las mismas medidas reales. Una condición no deseada. \n",
    "\n",
    "![Overfit and underfit](./img/Overfit.bmp)\n",
    "\n",
    "**Varianza:** Por otro lado la varianza se trata de la variabilidad que obtenemos en los resultados del modelo al entregarle datos no vistos o mejor conocidos como datos de **test**. Es natural que las medidas obtenidas no sean exactamente iguales con datos no vistos por el modelo, pero se espera que el modelo sea capaz de encontrar patrones que le ayuden a interpretar estos nuevos datos, entregando resulatados diferencias minimas entre el resultado real y el predicho, osea con baja varianza. Nuevamente se puede inferir que a medida que un modelo presenta un overfit o sobre entrenamiento, obtengamos datos con una varianz alta. Esto se debe a que el modelo ha memorizado los datos de entrenamiento y no sabe como responder a datos no vistos. \n",
    "\n",
    "\n",
    "**Conclusión 1:** Podemos ver entoces que si disminuimos la varianza del modelo, terminaremos tambien por minimizar el sesgo. Nuestro objetivo entonces es diminuir la varianza de nuestros modelos. \n",
    "\n",
    "![Overfit and underfit](./img/VarianzaYSesgo.png)"
   ]
  },
  {
   "cell_type": "markdown",
   "metadata": {},
   "source": [
    "## 2. k-fold cross validation\n",
    "Es un metodo que nos ayuda a disminuir la varianza de nuesto sistema sin incurrir en overfiting. El metodo consiste en:\n",
    "\n",
    "1. Dividir los datos en folds o grupos, se recomienda usar entre 5-10 divisiones. \n",
    "2. En cada iteracion tomaremos un grupo de datos para usarlo como test. \n",
    "3. En cada iteración se cambia el grupo de test de tal modo que el anterior grupo que se uso para test pasara a ser de entrenamiento.\n",
    "4. De esta manera, al terminar de recorrer todas las iteraciones habremos usado todos los datos para test y para entrenamiento.\n",
    "5. Al final el algoritmo nos entregara la presición media entre todos los k-folds que implementamos. Es natural que se haga así, pues si tomamos el mejor resultado, tendriamos un sesgo en la información.\n",
    "\n",
    "De esta manera el sesgo o bias y la varianza tienden a disminuir sin caer en overfit. \n",
    "\n",
    "![Overfit and underfit](./img/k-fold.png)\n",
    "\n",
    "Como se ha mensionado en el resumen del metódo, es necesario cambiar la manera en que se dividin los datos de train. Se procedera a cambiar la versión anterior del código para implementar K-folds, esto se hace en el tramo de código que implementa el modelo, todos los procesos anteriores son validos hasta este punto"
   ]
  },
  {
   "cell_type": "code",
   "execution_count": 1,
   "metadata": {},
   "outputs": [],
   "source": [
    "import numpy as np\n",
    "import pandas as pd\n",
    "import matplotlib.pyplot as plt"
   ]
  },
  {
   "cell_type": "code",
   "execution_count": 2,
   "metadata": {},
   "outputs": [
    {
     "name": "stdout",
     "output_type": "stream",
     "text": [
      "(10000, 14)\n"
     ]
    },
    {
     "data": {
      "text/html": [
       "<div>\n",
       "<style scoped>\n",
       "    .dataframe tbody tr th:only-of-type {\n",
       "        vertical-align: middle;\n",
       "    }\n",
       "\n",
       "    .dataframe tbody tr th {\n",
       "        vertical-align: top;\n",
       "    }\n",
       "\n",
       "    .dataframe thead th {\n",
       "        text-align: right;\n",
       "    }\n",
       "</style>\n",
       "<table border=\"1\" class=\"dataframe\">\n",
       "  <thead>\n",
       "    <tr style=\"text-align: right;\">\n",
       "      <th></th>\n",
       "      <th>RowNumber</th>\n",
       "      <th>CustomerId</th>\n",
       "      <th>Surname</th>\n",
       "      <th>CreditScore</th>\n",
       "      <th>Geography</th>\n",
       "      <th>Gender</th>\n",
       "      <th>Age</th>\n",
       "      <th>Tenure</th>\n",
       "      <th>Balance</th>\n",
       "      <th>NumOfProducts</th>\n",
       "      <th>HasCrCard</th>\n",
       "      <th>IsActiveMember</th>\n",
       "      <th>EstimatedSalary</th>\n",
       "      <th>Exited</th>\n",
       "    </tr>\n",
       "  </thead>\n",
       "  <tbody>\n",
       "    <tr>\n",
       "      <th>0</th>\n",
       "      <td>1</td>\n",
       "      <td>15634602</td>\n",
       "      <td>Hargrave</td>\n",
       "      <td>619</td>\n",
       "      <td>France</td>\n",
       "      <td>Female</td>\n",
       "      <td>42</td>\n",
       "      <td>2</td>\n",
       "      <td>0.00</td>\n",
       "      <td>1</td>\n",
       "      <td>1</td>\n",
       "      <td>1</td>\n",
       "      <td>101348.88</td>\n",
       "      <td>1</td>\n",
       "    </tr>\n",
       "    <tr>\n",
       "      <th>1</th>\n",
       "      <td>2</td>\n",
       "      <td>15647311</td>\n",
       "      <td>Hill</td>\n",
       "      <td>608</td>\n",
       "      <td>Spain</td>\n",
       "      <td>Female</td>\n",
       "      <td>41</td>\n",
       "      <td>1</td>\n",
       "      <td>83807.86</td>\n",
       "      <td>1</td>\n",
       "      <td>0</td>\n",
       "      <td>1</td>\n",
       "      <td>112542.58</td>\n",
       "      <td>0</td>\n",
       "    </tr>\n",
       "    <tr>\n",
       "      <th>2</th>\n",
       "      <td>3</td>\n",
       "      <td>15619304</td>\n",
       "      <td>Onio</td>\n",
       "      <td>502</td>\n",
       "      <td>France</td>\n",
       "      <td>Female</td>\n",
       "      <td>42</td>\n",
       "      <td>8</td>\n",
       "      <td>159660.80</td>\n",
       "      <td>3</td>\n",
       "      <td>1</td>\n",
       "      <td>0</td>\n",
       "      <td>113931.57</td>\n",
       "      <td>1</td>\n",
       "    </tr>\n",
       "    <tr>\n",
       "      <th>3</th>\n",
       "      <td>4</td>\n",
       "      <td>15701354</td>\n",
       "      <td>Boni</td>\n",
       "      <td>699</td>\n",
       "      <td>France</td>\n",
       "      <td>Female</td>\n",
       "      <td>39</td>\n",
       "      <td>1</td>\n",
       "      <td>0.00</td>\n",
       "      <td>2</td>\n",
       "      <td>0</td>\n",
       "      <td>0</td>\n",
       "      <td>93826.63</td>\n",
       "      <td>0</td>\n",
       "    </tr>\n",
       "    <tr>\n",
       "      <th>4</th>\n",
       "      <td>5</td>\n",
       "      <td>15737888</td>\n",
       "      <td>Mitchell</td>\n",
       "      <td>850</td>\n",
       "      <td>Spain</td>\n",
       "      <td>Female</td>\n",
       "      <td>43</td>\n",
       "      <td>2</td>\n",
       "      <td>125510.82</td>\n",
       "      <td>1</td>\n",
       "      <td>1</td>\n",
       "      <td>1</td>\n",
       "      <td>79084.10</td>\n",
       "      <td>0</td>\n",
       "    </tr>\n",
       "  </tbody>\n",
       "</table>\n",
       "</div>"
      ],
      "text/plain": [
       "   RowNumber  CustomerId   Surname  CreditScore Geography  Gender  Age  \\\n",
       "0          1    15634602  Hargrave          619    France  Female   42   \n",
       "1          2    15647311      Hill          608     Spain  Female   41   \n",
       "2          3    15619304      Onio          502    France  Female   42   \n",
       "3          4    15701354      Boni          699    France  Female   39   \n",
       "4          5    15737888  Mitchell          850     Spain  Female   43   \n",
       "\n",
       "   Tenure    Balance  NumOfProducts  HasCrCard  IsActiveMember  \\\n",
       "0       2       0.00              1          1               1   \n",
       "1       1   83807.86              1          0               1   \n",
       "2       8  159660.80              3          1               0   \n",
       "3       1       0.00              2          0               0   \n",
       "4       2  125510.82              1          1               1   \n",
       "\n",
       "   EstimatedSalary  Exited  \n",
       "0        101348.88       1  \n",
       "1        112542.58       0  \n",
       "2        113931.57       1  \n",
       "3         93826.63       0  \n",
       "4         79084.10       0  "
      ]
     },
     "execution_count": 2,
     "metadata": {},
     "output_type": "execute_result"
    }
   ],
   "source": [
    "#Cargar los datos\n",
    "data = pd.read_csv(\"Churn_Modelling.csv\")\n",
    "print(data.shape)\n",
    "data.head()"
   ]
  },
  {
   "cell_type": "code",
   "execution_count": 3,
   "metadata": {},
   "outputs": [
    {
     "name": "stdout",
     "output_type": "stream",
     "text": [
      "X = (10000, 10) y= (10000,)\n"
     ]
    }
   ],
   "source": [
    "#Separar variables dependientes e independientes\n",
    "X = data.iloc[:,3:13].values\n",
    "y = data.iloc[:,13].values\n",
    "print(f'X = {X.shape} y= {y.shape}')"
   ]
  },
  {
   "cell_type": "code",
   "execution_count": 4,
   "metadata": {},
   "outputs": [],
   "source": [
    "#Decodificar datos categoricos\n",
    "from sklearn.preprocessing import LabelEncoder, OneHotEncoder\n",
    "from sklearn.compose import ColumnTransformer\n",
    "\n",
    "# Hacemos una variable dummy para la columna 1 de paises\n",
    "ct = ColumnTransformer([(\"Geography\", OneHotEncoder(), [1])], remainder = 'passthrough')\n",
    "X = ct.fit_transform(X)\n",
    "\n",
    "# Y una variable binaria o de nivel para la columna 2 genero de los clientes\n",
    "labelencoder_X = LabelEncoder()\n",
    "X[:, 4] = labelencoder_X.fit_transform(X[:, 4])"
   ]
  },
  {
   "cell_type": "code",
   "execution_count": 5,
   "metadata": {},
   "outputs": [
    {
     "name": "stdout",
     "output_type": "stream",
     "text": [
      "(10000, 11)\n"
     ]
    }
   ],
   "source": [
    "#Eliminar una columna de variables dummy para evitar la multicolinealidad\n",
    "X = X[:,1:]\n",
    "print(X.shape)"
   ]
  },
  {
   "cell_type": "code",
   "execution_count": 6,
   "metadata": {},
   "outputs": [
    {
     "name": "stdout",
     "output_type": "stream",
     "text": [
      "X_train (8000, 11), X_test(2000, 11), y_train(8000,), y_test(2000,)\n"
     ]
    }
   ],
   "source": [
    "#Dividir datos en train y test\n",
    "from sklearn.model_selection import train_test_split\n",
    "X_train, X_test, y_train, y_test = train_test_split(X, y, test_size = 0.2, random_state = 0)\n",
    "print(f'X_train {X_train.shape}, X_test{X_test.shape}, y_train{y_train.shape}, y_test{y_test.shape}')"
   ]
  },
  {
   "cell_type": "code",
   "execution_count": 7,
   "metadata": {},
   "outputs": [],
   "source": [
    "#Normalizar los datos de train\n",
    "from sklearn.preprocessing import StandardScaler\n",
    "#Creamos un objeto base para escalar las variables\n",
    "scaler = StandardScaler()\n",
    "X_train = scaler.fit_transform(X_train)\n",
    "#Usamos la misma base de escala para los datos de test pues pertenecen al mismo grupo\n",
    "X_test = scaler.fit_transform(X_test)"
   ]
  },
  {
   "cell_type": "markdown",
   "metadata": {},
   "source": [
    "## Librerias\n",
    "1. Se debe notar que usaremos wrappers o fragmentos de código de scikit_learn pero implementados en keras, osea es una combinación de las dos librerias. \n",
    "2. cross_val_score implementa K-folds y sera el encargado de ejecutar el entrenamiento de los datos. \n",
    "3. Es necesario definir nuestro modelo como una función a la cual llamaremos para implementar el nuevo metódo de train y test.\n",
    "4. El encargado de hacer este proceso es el"
   ]
  },
  {
   "cell_type": "code",
   "execution_count": 8,
   "metadata": {},
   "outputs": [],
   "source": [
    "from keras.wrappers.scikit_learn import KerasClassifier\n",
    "from sklearn.model_selection import cross_val_score"
   ]
  },
  {
   "cell_type": "code",
   "execution_count": 9,
   "metadata": {},
   "outputs": [],
   "source": [
    "#Construir la red neuronal artificial RNA\n",
    "from keras.layers import Dense\n",
    "from keras.models import Sequential\n",
    "from keras.layers import Dropout"
   ]
  },
  {
   "cell_type": "code",
   "execution_count": 10,
   "metadata": {},
   "outputs": [],
   "source": [
    "#Función para construir nuestro modelo\n",
    "def model_clasificator():\n",
    "    model = Sequential()\n",
    "    model.add(Dense(units = 6, kernel_initializer = \"uniform\", activation = \"relu\", input_dim = 11))\n",
    "    model.add(Dense(units=6, kernel_initializer = 'uniform', activation='relu'))\n",
    "    #Agregar la capa de salida\n",
    "    model.add(Dense(units=1, kernel_initializer = 'uniform', activation='sigmoid'))\n",
    "    #Mostrar un resumen del modelo \n",
    "    model.summary()\n",
    "    #Compilar el modelo\n",
    "    model.compile(optimizer = \"adam\", loss=\"binary_crossentropy\", metrics=[\"accuracy\"])\n",
    "    return model"
   ]
  },
  {
   "cell_type": "markdown",
   "metadata": {},
   "source": [
    " ***KerasClassifier*** requiere como argumentos:\n",
    "- build_fn = función con nuestro modelo compilado\n",
    "- Parametros de sklearn: Como se indico es un wrapper, el cual contiene la libreria de sklearn, por lo tanto, usaremos los parametros del .fit de esta libreria, epochs, batch_size. "
   ]
  },
  {
   "cell_type": "code",
   "execution_count": 11,
   "metadata": {},
   "outputs": [],
   "source": [
    "#Invocaremos el modelo mediante una variable clasifier\n",
    "classifier = KerasClassifier(build_fn = model_clasificator, epochs = 100, batch_size=10)"
   ]
  },
  {
   "cell_type": "markdown",
   "metadata": {},
   "source": [
    " ***cross_val_score*** este proceso retorna varias medidas de los resultados de nuestro modelo, en este caso [accuracy] de cada iteración, por lo tanto es necesario guardar esto datos en un array. Los argumentos para esta función son:\n",
    "1. estimator = objeto que usaremos para medir las presiciones obtenidos en este caso el clasifier\n",
    "2. X = Conjunto de datos original que usaremos para entrenamiento del cual sacaremos un porcentaje para validar en cada iteración. \n",
    "3. y = Conjunto de datos con etiquetas de train\n",
    "4. cv = número de folds para hacer la cross validation se recomienda 5 - 10. Se pueden superar este valor de 10 si tienes una maquina potente. \n",
    "5. n_jobs = Si deseas usar todos los core de tu máquina para resolver el ajuste de modelos pues escribir -1 en este parametro.\n",
    "6. verbose = 1 para motrar los resultados de cada ajuste 0 para ocultarlos. "
   ]
  },
  {
   "cell_type": "code",
   "execution_count": 12,
   "metadata": {},
   "outputs": [
    {
     "name": "stderr",
     "output_type": "stream",
     "text": [
      "[Parallel(n_jobs=-1)]: Using backend LokyBackend with 8 concurrent workers.\n",
      "[Parallel(n_jobs=-1)]: Done   6 out of  10 | elapsed:  1.9min remaining:  1.3min\n",
      "[Parallel(n_jobs=-1)]: Done  10 out of  10 | elapsed:  2.6min finished\n"
     ]
    }
   ],
   "source": [
    "accurasies = cross_val_score(estimator = classifier, X = X_train, y = y_train, cv = 10, n_jobs = -1, verbose = 1)"
   ]
  },
  {
   "cell_type": "code",
   "execution_count": 13,
   "metadata": {},
   "outputs": [
    {
     "data": {
      "text/plain": [
       "array([0.85750002, 0.83375001, 0.87374997, 0.82499999, 0.8725    ,\n",
       "       0.86374998, 0.84125   , 0.81875002, 0.815     , 0.84249997])"
      ]
     },
     "execution_count": 13,
     "metadata": {},
     "output_type": "execute_result"
    }
   ],
   "source": [
    "#Evaluar las presiciones obtenidas con el metodo de validación cruzada\n",
    "accurasies"
   ]
  },
  {
   "cell_type": "markdown",
   "metadata": {},
   "source": [
    "Mediremos cual es la media de la presición obtenida y la varainza, de esta manera podemos determinar si son altas o bajas y podremos situarnos en alguna de las cuatro posibilidades vistas en el apartado inicial del código. "
   ]
  },
  {
   "cell_type": "code",
   "execution_count": 14,
   "metadata": {},
   "outputs": [
    {
     "name": "stdout",
     "output_type": "stream",
     "text": [
      "Varianza = 0.020549096505934474 presición media = 0.8443749964237213\n"
     ]
    }
   ],
   "source": [
    "media = accurasies.mean()\n",
    "varianza = accurasies.std()\n",
    "print(f'Varianza = {varianza} presición media = {media}')"
   ]
  },
  {
   "cell_type": "markdown",
   "metadata": {},
   "source": [
    "### Análisis\n",
    "- Tenemos una varianza baja pero una presición un poco alejada del centro, por lo tanto podemos concluir que tenemos poca varianza y alto sesgo. \n",
    "- De la tabla de accuracys podemos ver qua las variaciones obtenidas entre los diferentes entrenamientos los porcentajes no difieren en +/- 2%. Si los valores obtenidos fuesen demasido grandes entre unos y otros, seria necesario añadir a nuestro modelo un metodo de regularización.\n",
    "- Los metodos de regularización son metódos que permiten penalizar mas los datos demasiado alejados de los valores reales. \n",
    "- Uno de ellos es el dropout, el cual 'apaga' un porcentaje de neuronas por cada capa para evitar que todas las neuronas aprendan los mismos patrones, de esta manera se evita el overfit. \n",
    "- El dropout se puede implementar como uno de los metodos de la libreria layers de Keras. La linea que indica cual es la cantidad de neuronas a apagar se implementa inmediatamente despues de la capa donde apagaremos dichas neuronas. Solo requiere que indiquemos el porcentaje de las neuronas que deseamos apagar en cada entrenamiento."
   ]
  },
  {
   "cell_type": "markdown",
   "metadata": {},
   "source": [
    "## Mejorando la red - Grid Search\n",
    "Hasta este punto los hiperparametros como: epochs, layers, neuronas por capa, batch_size, loss, optimizer entre otros se han mantenido fijos. Para mejorar los resultados entregados por la red neuronal es necesario variar estos valores. Para no tener que cambiar estos valores a ensayo y error se puede aplicar un metódo denominado grid search. \n",
    "\n",
    "**GridSearchCV:** consiste en fabricar una especie de red, en la que indicamos los posibles valores que deseamos proponer para evaluar en cada hiperparametro. Luego se hace el entrenamiento de nuestra red usando las diferentes combinaciones de valores que tenemos como posibles variaciones. Este metódo implementa el cross validation, de tal manera que usaremos el mismo metódo de funcionamiento. La rutina consta de:\n",
    "\n",
    "1. Especificar el KerasClassifier entregandole como función el modelo que invoca nuestra estructura de red neuronal. Recordar que esta función especifica los argumentos de entrenamiento .fit  \n",
    "2. Los hiper parametros de entrenamiento no los pasaremos como argumentos en el kerasClassifier. Es en este punto donde debemos implementar el grid-search para determinar que combinación es la que mejor resultado nos entrega. \n",
    "3. Como se mensiono debemos crear diferentes valores de los hiperparamentros, para crear este conjunto de datos usamos un diccionario, donde los key seran los nombres de los hiperparamentros y los valores serán sus posibles datos. \n",
    "5. Para implementar el grid usaremos la función GridSearchCV, los argumentos necesarios son:\n",
    "- estimator = classifier, que sera el  KerasClassifier\n",
    "- param_grid = parameters, diccionario con posibles valores para alimentar el grid-search. Se debe cuidar no tener demasiados hiperparametros, pues aumentarian el costo computacional. \n",
    "- scoring = 'accuracy',  es el parametro que deseamos clasificar\n",
    "- cv = 10, es la cantidad de folds que usarmenos\n",
    "6. Para modificar patrones dentro del modelo de red neuronal, debemos agregar como parametro de la función los hiperparametros que deseamos variar mediante el grid search.  "
   ]
  },
  {
   "cell_type": "code",
   "execution_count": 15,
   "metadata": {},
   "outputs": [],
   "source": [
    "from sklearn.model_selection import GridSearchCV"
   ]
  },
  {
   "cell_type": "markdown",
   "metadata": {},
   "source": [
    "Creamos la función de red neuronal con el parametro optimizer para variar el optimizador. En este caso: adam y rmsprop. \n",
    "\n",
    "rmsprop es un optimizador común para clasificación en redes neuronale de aprendizaje con pocas capas. "
   ]
  },
  {
   "cell_type": "code",
   "execution_count": 22,
   "metadata": {},
   "outputs": [],
   "source": [
    "def build_classifier(optimizer):\n",
    "    classifier = Sequential()\n",
    "    classifier.add(Dense(units = 6, kernel_initializer = \"uniform\",  activation = \"relu\", input_dim = 11))\n",
    "    classifier.add(Dropout(0.1)) #Regularización de las neuronas\n",
    "    classifier.add(Dense(units = 6, kernel_initializer = \"uniform\",  activation = \"relu\"))\n",
    "    classifier.add(Dense(units = 1, kernel_initializer = \"uniform\",  activation = \"sigmoid\"))\n",
    "    classifier.compile(optimizer = optimizer, loss = \"binary_crossentropy\", metrics = [\"accuracy\"])\n",
    "    print(f'{optimizer}')\n",
    "    return classifier"
   ]
  },
  {
   "cell_type": "markdown",
   "metadata": {},
   "source": [
    "Creamos la función que nos ayuda a llamar la función modelo en formato wraper. Osea envolviento las librerias de sklearn con keras. Como se ve solo se llama la función sin especificar los hiperparametros de .fit, estos hiperparametros los variaremos mediante el grid search."
   ]
  },
  {
   "cell_type": "code",
   "execution_count": 23,
   "metadata": {},
   "outputs": [],
   "source": [
    "classifier_b = KerasClassifier(build_fn = build_classifier)"
   ]
  },
  {
   "cell_type": "markdown",
   "metadata": {},
   "source": [
    "Por facilidad declararemos los hiperparametros del grid search mediante un diccionario, para luedo entregarlos como parametro de la función GridSearchCV. "
   ]
  },
  {
   "cell_type": "code",
   "execution_count": 24,
   "metadata": {},
   "outputs": [],
   "source": [
    "parameters = {\n",
    "    'batch_size' : [10, 25],\n",
    "    'nb_epoch' : [150, 500], \n",
    "    'optimizer' : ['adam', 'rmsprop']\n",
    "}"
   ]
  },
  {
   "cell_type": "markdown",
   "metadata": {},
   "source": [
    "Finalmente se creara una variable grid_search que guardara el valor de la mejor estimación encontrada al intercambiar los diferentes hiperparametros del grid. La función GridSearchCV recibe los datos:\n",
    "- Estimator = classifier en este caso es nuestro modelo invocado en un grapper de keras y sklearn\n",
    "- param_grid = Diccionario con los hiperparametros de nuestra grid\n",
    "- scoring = Es el valor que objetivo a minimizar mediante nuestro modelo en esta caso la presición.\n",
    "- cv = Es el numero de folds que aplicaremos en el cross validation generalmente un valor entre 5 y 10."
   ]
  },
  {
   "cell_type": "code",
   "execution_count": 25,
   "metadata": {},
   "outputs": [],
   "source": [
    "grid_search = GridSearchCV(estimator = classifier_b, \n",
    "                           param_grid = parameters, \n",
    "                           scoring = 'accuracy', \n",
    "                           cv = 10)"
   ]
  },
  {
   "cell_type": "markdown",
   "metadata": {},
   "source": [
    "Finalmente vamos a entrenar la red mediante el grid_search.fit y entregamos como es de esperar los datos de entrenamiento de variable independiente y dependiente. \n",
    "\n",
    "Este entrenmiento nos entrega los mejores parametros y la mejor variable objetivo lograda en este caso la presición accuracy. \n",
    "\n",
    "Estos datos se acceden mediante los metodos best_params_ y best_score_"
   ]
  },
  {
   "cell_type": "code",
   "execution_count": 26,
   "metadata": {},
   "outputs": [
    {
     "name": "stdout",
     "output_type": "stream",
     "text": [
      "adam\n",
      "720/720 [==============================] - 0s 524us/step - loss: 0.5023 - accuracy: 0.7965\n",
      "adam\n",
      "720/720 [==============================] - 0s 547us/step - loss: 0.4979 - accuracy: 0.7958\n",
      "adam\n",
      "720/720 [==============================] - 0s 471us/step - loss: 0.4943 - accuracy: 0.7940\n",
      "adam\n",
      "720/720 [==============================] - 0s 497us/step - loss: 0.4901 - accuracy: 0.7964\n",
      "adam\n",
      "720/720 [==============================] - 0s 480us/step - loss: 0.5044 - accuracy: 0.7937\n",
      "adam\n",
      "720/720 [==============================] - 0s 481us/step - loss: 0.4914 - accuracy: 0.7943\n",
      "adam\n",
      "720/720 [==============================] - 0s 487us/step - loss: 0.5002 - accuracy: 0.7968\n",
      "adam\n",
      "720/720 [==============================] - 0s 504us/step - loss: 0.4945 - accuracy: 0.7960\n",
      "adam\n",
      "  1/720 [..............................] - ETA: 0s - loss: 0.6931 - accuracy: 0.4000WARNING:tensorflow:Callbacks method `on_train_batch_begin` is slow compared to the batch time (batch time: 0.0000s vs `on_train_batch_begin` time: 0.0010s). Check your callbacks.\n",
      "720/720 [==============================] - 0s 493us/step - loss: 0.4832 - accuracy: 0.7954\n",
      "adam\n",
      "  1/720 [..............................] - ETA: 0s - loss: 0.6931 - accuracy: 0.5000WARNING:tensorflow:Callbacks method `on_train_batch_end` is slow compared to the batch time (batch time: 0.0000s vs `on_train_batch_end` time: 0.0156s). Check your callbacks.\n",
      "720/720 [==============================] - 0s 508us/step - loss: 0.5021 - accuracy: 0.7956\n",
      "rmsprop\n",
      "720/720 [==============================] - 0s 500us/step - loss: 0.5101 - accuracy: 0.7969\n",
      "rmsprop\n",
      "720/720 [==============================] - 0s 488us/step - loss: 0.5190 - accuracy: 0.7964\n",
      "rmsprop\n",
      "720/720 [==============================] - 0s 490us/step - loss: 0.5016 - accuracy: 0.7954\n",
      "rmsprop\n",
      "720/720 [==============================] - 0s 482us/step - loss: 0.5094 - accuracy: 0.7965\n",
      "rmsprop\n",
      "720/720 [==============================] - 0s 499us/step - loss: 0.5092 - accuracy: 0.7936\n",
      "rmsprop\n",
      "720/720 [==============================] - 0s 480us/step - loss: 0.5138 - accuracy: 0.7935\n",
      "rmsprop\n",
      "720/720 [==============================] - 0s 503us/step - loss: 0.5176 - accuracy: 0.7962\n",
      "rmsprop\n",
      "720/720 [==============================] - 0s 491us/step - loss: 0.5057 - accuracy: 0.7957\n",
      "rmsprop\n",
      "720/720 [==============================] - 0s 491us/step - loss: 0.4957 - accuracy: 0.7957\n",
      "rmsprop\n",
      "720/720 [==============================] - 0s 495us/step - loss: 0.5150 - accuracy: 0.7954\n",
      "adam\n",
      "720/720 [==============================] - 0s 484us/step - loss: 0.4950 - accuracy: 0.7961\n",
      "adam\n",
      "720/720 [==============================] - 0s 503us/step - loss: 0.5129 - accuracy: 0.7958\n",
      "adam\n",
      "720/720 [==============================] - 0s 503us/step - loss: 0.4856 - accuracy: 0.7953\n",
      "adam\n",
      "720/720 [==============================] - 0s 513us/step - loss: 0.4812 - accuracy: 0.7975\n",
      "adam\n",
      "720/720 [==============================] - 0s 482us/step - loss: 0.4886 - accuracy: 0.7937\n",
      "adam\n",
      "720/720 [==============================] - 0s 484us/step - loss: 0.5035 - accuracy: 0.7936\n",
      "adam\n",
      "720/720 [==============================] - 0s 505us/step - loss: 0.5025 - accuracy: 0.7965\n",
      "adam\n",
      "720/720 [==============================] - 0s 496us/step - loss: 0.4931 - accuracy: 0.7962\n",
      "adam\n",
      "720/720 [==============================] - 0s 509us/step - loss: 0.4880 - accuracy: 0.7954\n",
      "adam\n",
      "720/720 [==============================] - 0s 477us/step - loss: 0.4893 - accuracy: 0.7960\n",
      "rmsprop\n",
      "720/720 [==============================] - 0s 476us/step - loss: 0.5018 - accuracy: 0.7971\n",
      "rmsprop\n",
      "720/720 [==============================] - 0s 498us/step - loss: 0.5104 - accuracy: 0.7962\n",
      "rmsprop\n",
      "720/720 [==============================] - 0s 500us/step - loss: 0.5006 - accuracy: 0.7956\n",
      "rmsprop\n",
      "720/720 [==============================] - 0s 496us/step - loss: 0.5217 - accuracy: 0.7964\n",
      "rmsprop\n",
      "720/720 [==============================] - 0s 489us/step - loss: 0.5061 - accuracy: 0.7937\n",
      "rmsprop\n",
      "720/720 [==============================] - 0s 477us/step - loss: 0.5053 - accuracy: 0.7943\n",
      "rmsprop\n",
      "720/720 [==============================] - 0s 493us/step - loss: 0.5250 - accuracy: 0.7965\n",
      "rmsprop\n",
      "720/720 [==============================] - 0s 478us/step - loss: 0.5043 - accuracy: 0.7951\n",
      "rmsprop\n",
      "720/720 [==============================] - 0s 495us/step - loss: 0.5077 - accuracy: 0.7957\n",
      "rmsprop\n",
      "720/720 [==============================] - 0s 492us/step - loss: 0.5121 - accuracy: 0.7960\n",
      "adam\n",
      "288/288 [==============================] - 0s 533us/step - loss: 0.5682 - accuracy: 0.7953\n",
      "adam\n",
      "288/288 [==============================] - 0s 513us/step - loss: 0.5710 - accuracy: 0.7953\n",
      "adam\n",
      "288/288 [==============================] - 0s 568us/step - loss: 0.5593 - accuracy: 0.7942\n",
      "adam\n",
      "288/288 [==============================] - 0s 534us/step - loss: 0.5650 - accuracy: 0.7965\n",
      "adam\n",
      "288/288 [==============================] - 0s 572us/step - loss: 0.5601 - accuracy: 0.7933\n",
      "adam\n",
      "288/288 [==============================] - 0s 541us/step - loss: 0.5606 - accuracy: 0.7932\n",
      "adam\n",
      "288/288 [==============================] - 0s 542us/step - loss: 0.5532 - accuracy: 0.7967\n",
      "adam\n",
      "288/288 [==============================] - 0s 530us/step - loss: 0.5823 - accuracy: 0.7936\n",
      "adam\n",
      "288/288 [==============================] - 0s 564us/step - loss: 0.5556 - accuracy: 0.7954\n",
      "adam\n",
      "288/288 [==============================] - 0s 547us/step - loss: 0.5758 - accuracy: 0.7942\n",
      "rmsprop\n",
      "288/288 [==============================] - 0s 562us/step - loss: 0.5604 - accuracy: 0.7971\n",
      "rmsprop\n",
      "288/288 [==============================] - 0s 532us/step - loss: 0.5758 - accuracy: 0.7954\n",
      "rmsprop\n",
      "288/288 [==============================] - 0s 521us/step - loss: 0.5829 - accuracy: 0.7944\n",
      "rmsprop\n",
      "288/288 [==============================] - 0s 531us/step - loss: 0.6027 - accuracy: 0.7953\n",
      "rmsprop\n",
      "288/288 [==============================] - 0s 539us/step - loss: 0.6006 - accuracy: 0.7921\n",
      "rmsprop\n",
      "288/288 [==============================] - 0s 514us/step - loss: 0.5738 - accuracy: 0.7944\n",
      "rmsprop\n",
      "288/288 [==============================] - 0s 541us/step - loss: 0.5707 - accuracy: 0.7969\n",
      "rmsprop\n",
      "288/288 [==============================] - 0s 567us/step - loss: 0.5863 - accuracy: 0.7944\n",
      "rmsprop\n",
      "288/288 [==============================] - 0s 514us/step - loss: 0.5873 - accuracy: 0.7937\n",
      "rmsprop\n",
      "288/288 [==============================] - 0s 578us/step - loss: 0.5857 - accuracy: 0.7958\n",
      "adam\n",
      "288/288 [==============================] - 0s 539us/step - loss: 0.5797 - accuracy: 0.7968\n",
      "adam\n",
      "288/288 [==============================] - 0s 509us/step - loss: 0.5631 - accuracy: 0.7957\n",
      "adam\n",
      "288/288 [==============================] - 0s 530us/step - loss: 0.5820 - accuracy: 0.7943\n",
      "adam\n",
      "288/288 [==============================] - 0s 543us/step - loss: 0.5516 - accuracy: 0.7972\n",
      "adam\n",
      "288/288 [==============================] - 0s 564us/step - loss: 0.6122 - accuracy: 0.7921\n",
      "adam\n",
      "  1/288 [..............................] - ETA: 0s - loss: 0.6931 - accuracy: 0.5200WARNING:tensorflow:Callbacks method `on_train_batch_end` is slow compared to the batch time (batch time: 0.0000s vs `on_train_batch_end` time: 0.0156s). Check your callbacks.\n",
      "288/288 [==============================] - 0s 562us/step - loss: 0.5565 - accuracy: 0.7942\n",
      "adam\n",
      "288/288 [==============================] - 0s 572us/step - loss: 0.5643 - accuracy: 0.7961\n",
      "adam\n",
      "288/288 [==============================] - 0s 564us/step - loss: 0.5666 - accuracy: 0.7962\n",
      "adam\n",
      "288/288 [==============================] - 0s 514us/step - loss: 0.5575 - accuracy: 0.7937\n",
      "adam\n",
      "288/288 [==============================] - 0s 547us/step - loss: 0.5726 - accuracy: 0.7939\n",
      "rmsprop\n",
      "288/288 [==============================] - 0s 548us/step - loss: 0.5643 - accuracy: 0.7968\n",
      "rmsprop\n",
      "288/288 [==============================] - 0s 532us/step - loss: 0.5845 - accuracy: 0.7956\n",
      "rmsprop\n",
      "288/288 [==============================] - 0s 512us/step - loss: 0.6054 - accuracy: 0.7932\n",
      "rmsprop\n",
      "288/288 [==============================] - 0s 516us/step - loss: 0.5957 - accuracy: 0.7968\n",
      "rmsprop\n",
      "288/288 [==============================] - 0s 512us/step - loss: 0.5754 - accuracy: 0.7924\n",
      "rmsprop\n",
      "288/288 [==============================] - 0s 579us/step - loss: 0.5988 - accuracy: 0.7935\n",
      "rmsprop\n"
     ]
    },
    {
     "name": "stdout",
     "output_type": "stream",
     "text": [
      "288/288 [==============================] - 0s 560us/step - loss: 0.5681 - accuracy: 0.7964\n",
      "rmsprop\n",
      "288/288 [==============================] - 0s 518us/step - loss: 0.6296 - accuracy: 0.7958\n",
      "rmsprop\n",
      "288/288 [==============================] - 0s 509us/step - loss: 0.5770 - accuracy: 0.7950\n",
      "rmsprop\n",
      "288/288 [==============================] - 0s 496us/step - loss: 0.5964 - accuracy: 0.7940\n",
      "adam\n",
      "800/800 [==============================] - 0s 485us/step - loss: 0.4891 - accuracy: 0.7955\n"
     ]
    }
   ],
   "source": [
    "grid_search = grid_search.fit(X_train, y_train)\n",
    "best_parameters = grid_search.best_params_\n",
    "best_accuracy = grid_search.best_score_"
   ]
  },
  {
   "cell_type": "code",
   "execution_count": 27,
   "metadata": {},
   "outputs": [
    {
     "name": "stdout",
     "output_type": "stream",
     "text": [
      "Mejores parametros {'batch_size': 10, 'nb_epoch': 150, 'optimizer': 'adam'}\n",
      "Mejor presición accuracy obtenida 0.796625\n"
     ]
    }
   ],
   "source": [
    "print(f'Mejores parametros {best_parameters}')\n",
    "print(f'Mejor presición accuracy obtenida {best_accuracy}')"
   ]
  }
 ],
 "metadata": {
  "kernelspec": {
   "display_name": "Python 3",
   "language": "python",
   "name": "python3"
  },
  "language_info": {
   "codemirror_mode": {
    "name": "ipython",
    "version": 3
   },
   "file_extension": ".py",
   "mimetype": "text/x-python",
   "name": "python",
   "nbconvert_exporter": "python",
   "pygments_lexer": "ipython3",
   "version": "3.8.3"
  }
 },
 "nbformat": 4,
 "nbformat_minor": 4
}

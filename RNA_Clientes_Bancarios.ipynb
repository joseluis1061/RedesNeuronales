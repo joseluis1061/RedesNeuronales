{
 "cells": [
  {
   "cell_type": "code",
   "execution_count": 1,
   "metadata": {},
   "outputs": [],
   "source": [
    "#!pip install tensorflow\n",
    "#!pip install keras\n",
    "#!pip install theano"
   ]
  },
  {
   "cell_type": "markdown",
   "metadata": {},
   "source": [
    "# Análisis salida de clientes para entidad bancaria"
   ]
  },
  {
   "cell_type": "markdown",
   "metadata": {},
   "source": [
    "## Resumen\n",
    "Una entidad bancaria ha detectado que un indeterminado número de clientes se ha retirado de su banco de manera anomala. Se nos pide desarrollar un sistema que determine cual es la posibilidad que un cliente se retire de la entidad bancaria a partir de los datos del usuario. Este banco opera en diferentes naciones europeas. \n",
    "Para ello nos han entregado una base de datos de 10.000 clientes. Con los siguientes datos:\n",
    "\n",
    "- Customer: ID del cliente\n",
    "- Surname: Apellido\n",
    "- Credit score: record crediticio\n",
    "- Geography: País\n",
    "- Gender: Genero\n",
    "- Age: Edad\n",
    "- Tenure: Estado del cliente\n",
    "- Balance: Balance\n",
    "- NumOfProducts: Número de productos\n",
    "- HasCrCard: Tiene 1 o no 0 tarjetas de credito \n",
    "- IsActiveMember: Es miembro activo\n",
    "- StimateSalary: Salario estimado\n",
    "- Exited: Permanece o se ha retirado del banco. \n",
    "\n",
    "Como se observa se trata de un problema de clasificación. El problema es de muchos a uno y la variable objetivo es Exited. \n",
    "\n",
    "**Nota 1:** Para el banco es mas diciente que entreguemos las probabilidad que un cliente se quede o se marche del banco.  \n",
    "**Nota 2:** Este código requiere Python 3, TensorFlow, Theano"
   ]
  },
  {
   "cell_type": "markdown",
   "metadata": {},
   "source": [
    "## Pasos para resolver el problema:\n",
    "\n",
    "A continuación se resume la manera en que se abordara el problema. Usaremos una red neuronal artificial RNA como metódo de solución.\n",
    "\n",
    "1. Cargar las librerias de análisis de datos\n",
    "2. Cargar y tratamiento de los datos suministrados por el banco"
   ]
  },
  {
   "cell_type": "markdown",
   "metadata": {},
   "source": [
    "## 0. Cargar las librerias"
   ]
  },
  {
   "cell_type": "code",
   "execution_count": 2,
   "metadata": {},
   "outputs": [],
   "source": [
    "import numpy as np\n",
    "import pandas as pd\n",
    "import matplotlib.pyplot as plt"
   ]
  },
  {
   "cell_type": "markdown",
   "metadata": {},
   "source": [
    "# 1. Carga de datos y tratamiento\n",
    "Los datos se deben cargar usando una ruta al directorio en caso que los datos se encuentren en carpetas independientes"
   ]
  },
  {
   "cell_type": "code",
   "execution_count": 3,
   "metadata": {},
   "outputs": [
    {
     "name": "stdout",
     "output_type": "stream",
     "text": [
      "(10000, 14)\n"
     ]
    },
    {
     "data": {
      "text/html": [
       "<div>\n",
       "<style scoped>\n",
       "    .dataframe tbody tr th:only-of-type {\n",
       "        vertical-align: middle;\n",
       "    }\n",
       "\n",
       "    .dataframe tbody tr th {\n",
       "        vertical-align: top;\n",
       "    }\n",
       "\n",
       "    .dataframe thead th {\n",
       "        text-align: right;\n",
       "    }\n",
       "</style>\n",
       "<table border=\"1\" class=\"dataframe\">\n",
       "  <thead>\n",
       "    <tr style=\"text-align: right;\">\n",
       "      <th></th>\n",
       "      <th>RowNumber</th>\n",
       "      <th>CustomerId</th>\n",
       "      <th>Surname</th>\n",
       "      <th>CreditScore</th>\n",
       "      <th>Geography</th>\n",
       "      <th>Gender</th>\n",
       "      <th>Age</th>\n",
       "      <th>Tenure</th>\n",
       "      <th>Balance</th>\n",
       "      <th>NumOfProducts</th>\n",
       "      <th>HasCrCard</th>\n",
       "      <th>IsActiveMember</th>\n",
       "      <th>EstimatedSalary</th>\n",
       "      <th>Exited</th>\n",
       "    </tr>\n",
       "  </thead>\n",
       "  <tbody>\n",
       "    <tr>\n",
       "      <th>0</th>\n",
       "      <td>1</td>\n",
       "      <td>15634602</td>\n",
       "      <td>Hargrave</td>\n",
       "      <td>619</td>\n",
       "      <td>France</td>\n",
       "      <td>Female</td>\n",
       "      <td>42</td>\n",
       "      <td>2</td>\n",
       "      <td>0.00</td>\n",
       "      <td>1</td>\n",
       "      <td>1</td>\n",
       "      <td>1</td>\n",
       "      <td>101348.88</td>\n",
       "      <td>1</td>\n",
       "    </tr>\n",
       "    <tr>\n",
       "      <th>1</th>\n",
       "      <td>2</td>\n",
       "      <td>15647311</td>\n",
       "      <td>Hill</td>\n",
       "      <td>608</td>\n",
       "      <td>Spain</td>\n",
       "      <td>Female</td>\n",
       "      <td>41</td>\n",
       "      <td>1</td>\n",
       "      <td>83807.86</td>\n",
       "      <td>1</td>\n",
       "      <td>0</td>\n",
       "      <td>1</td>\n",
       "      <td>112542.58</td>\n",
       "      <td>0</td>\n",
       "    </tr>\n",
       "    <tr>\n",
       "      <th>2</th>\n",
       "      <td>3</td>\n",
       "      <td>15619304</td>\n",
       "      <td>Onio</td>\n",
       "      <td>502</td>\n",
       "      <td>France</td>\n",
       "      <td>Female</td>\n",
       "      <td>42</td>\n",
       "      <td>8</td>\n",
       "      <td>159660.80</td>\n",
       "      <td>3</td>\n",
       "      <td>1</td>\n",
       "      <td>0</td>\n",
       "      <td>113931.57</td>\n",
       "      <td>1</td>\n",
       "    </tr>\n",
       "    <tr>\n",
       "      <th>3</th>\n",
       "      <td>4</td>\n",
       "      <td>15701354</td>\n",
       "      <td>Boni</td>\n",
       "      <td>699</td>\n",
       "      <td>France</td>\n",
       "      <td>Female</td>\n",
       "      <td>39</td>\n",
       "      <td>1</td>\n",
       "      <td>0.00</td>\n",
       "      <td>2</td>\n",
       "      <td>0</td>\n",
       "      <td>0</td>\n",
       "      <td>93826.63</td>\n",
       "      <td>0</td>\n",
       "    </tr>\n",
       "    <tr>\n",
       "      <th>4</th>\n",
       "      <td>5</td>\n",
       "      <td>15737888</td>\n",
       "      <td>Mitchell</td>\n",
       "      <td>850</td>\n",
       "      <td>Spain</td>\n",
       "      <td>Female</td>\n",
       "      <td>43</td>\n",
       "      <td>2</td>\n",
       "      <td>125510.82</td>\n",
       "      <td>1</td>\n",
       "      <td>1</td>\n",
       "      <td>1</td>\n",
       "      <td>79084.10</td>\n",
       "      <td>0</td>\n",
       "    </tr>\n",
       "  </tbody>\n",
       "</table>\n",
       "</div>"
      ],
      "text/plain": [
       "   RowNumber  CustomerId   Surname  CreditScore Geography  Gender  Age  \\\n",
       "0          1    15634602  Hargrave          619    France  Female   42   \n",
       "1          2    15647311      Hill          608     Spain  Female   41   \n",
       "2          3    15619304      Onio          502    France  Female   42   \n",
       "3          4    15701354      Boni          699    France  Female   39   \n",
       "4          5    15737888  Mitchell          850     Spain  Female   43   \n",
       "\n",
       "   Tenure    Balance  NumOfProducts  HasCrCard  IsActiveMember  \\\n",
       "0       2       0.00              1          1               1   \n",
       "1       1   83807.86              1          0               1   \n",
       "2       8  159660.80              3          1               0   \n",
       "3       1       0.00              2          0               0   \n",
       "4       2  125510.82              1          1               1   \n",
       "\n",
       "   EstimatedSalary  Exited  \n",
       "0        101348.88       1  \n",
       "1        112542.58       0  \n",
       "2        113931.57       1  \n",
       "3         93826.63       0  \n",
       "4         79084.10       0  "
      ]
     },
     "execution_count": 3,
     "metadata": {},
     "output_type": "execute_result"
    }
   ],
   "source": [
    "data = pd.read_csv(\"Churn_Modelling.csv\")\n",
    "print(data.shape)\n",
    "data.head()"
   ]
  },
  {
   "cell_type": "markdown",
   "metadata": {},
   "source": [
    "### Variables independientes y dependientes\n",
    "Solo vamos a usar los valores del conjunto de datos y no tendremos en cuenta el indice ni los encabezados. \n",
    "\n",
    "X = Variables independientes eliminamos las columanas de rowNumber, CustomerId y Surname debido a que no aportan información del comportamiento de un cliente al modelo y por supuesto la variable de salida exited. \n",
    "\n",
    "y = Variable de salida en este caso Exited"
   ]
  },
  {
   "cell_type": "code",
   "execution_count": 4,
   "metadata": {},
   "outputs": [
    {
     "name": "stdout",
     "output_type": "stream",
     "text": [
      "X = (10000, 10) y= (10000,)\n"
     ]
    }
   ],
   "source": [
    "X = data.iloc[:,3:13].values\n",
    "y = data.iloc[:,13].values\n",
    "print(f'X = {X.shape} y= {y.shape}')"
   ]
  },
  {
   "cell_type": "markdown",
   "metadata": {},
   "source": [
    "### Decodificación de datos\n",
    "Esta base de datos cuenta con datos categoricos. Las RNA al igual que otros modelos de análisis requieren de datos númericos para trabajar. Es necesario decodificar estos datos para tener información interpretable por el modelo que se diseñara.\n",
    "Esta es la lista de datos categoricos:\n",
    "- Geography: País\n",
    "- Gender: Genero \n",
    "Tenemos otros datos categoricos, pero estos se encuentran decodificados con un valor binario 0 y 1. Esto es suficiente para que el modelo interprete la información. Por lo tanto no es necesario hacer una decodificación de estos valores. \n",
    "- Tenure: Estado del cliente\n",
    "- HasCrCard: Tiene 1 o no 0 tarjetas de credito \n",
    "- IsActiveMember: Es miembro activo\n",
    "- Exited: Permanece o se ha retirado del banco. \n",
    "\n",
    "**Onehotencoder** Es una tecnica de códificación que me crea una variable dummy. Estas variables consisten en crear una nueva columna para cada categoria a partir de la columna inicial. Por ejemplo de la columan Geography obtendremos tres nuevas colunmas: francia, España, Alemania. Cada fila solo podra tener un 1 en una de las tres filas, por ejemplo un usuario Español tendria 010. Haciendo referencia a que solo pertenece a la categoria España. "
   ]
  },
  {
   "cell_type": "code",
   "execution_count": 5,
   "metadata": {},
   "outputs": [],
   "source": [
    "from sklearn.preprocessing import LabelEncoder, OneHotEncoder\n",
    "from sklearn.compose import ColumnTransformer\n",
    "\n",
    "# Hacemos una variable dummy para la columna 1 de paises\n",
    "ct = ColumnTransformer([(\"Geography\", OneHotEncoder(), [1])], remainder = 'passthrough')\n",
    "X = ct.fit_transform(X)"
   ]
  },
  {
   "cell_type": "markdown",
   "metadata": {},
   "source": [
    "**Nota:** En el paso anterior se han creado tres columnas nuevas, por lo tanto la columna de genero pasa de ser la 2 a la 4"
   ]
  },
  {
   "cell_type": "code",
   "execution_count": 6,
   "metadata": {},
   "outputs": [],
   "source": [
    "# Y una variable binaria o de nivel para la columna 2 genero de los clientes\n",
    "labelencoder_X = LabelEncoder()\n",
    "X[:, 4] = labelencoder_X.fit_transform(X[:, 4])"
   ]
  },
  {
   "cell_type": "markdown",
   "metadata": {},
   "source": [
    "Si lo notas no es necesario tener tres columnas para los paises, pues si sabemos que un usuario pertenece al grupo 1 o 2 automaticamente se sabe que no sera del grupo 3. Así mismo si pertenece al grupo 3 no pertenecera al 1 y 2. Hay que eliminar una columna y de esta manera evitamos el problema de multicolinealidad."
   ]
  },
  {
   "cell_type": "code",
   "execution_count": 7,
   "metadata": {},
   "outputs": [
    {
     "name": "stdout",
     "output_type": "stream",
     "text": [
      "(10000, 11)\n"
     ]
    }
   ],
   "source": [
    "X = X[:,1:]\n",
    "print(X.shape)"
   ]
  },
  {
   "cell_type": "markdown",
   "metadata": {},
   "source": [
    "### División de los datos en train y test\n",
    "Podemos hacer la división de manera manual, pero en este ejemplo usaremos la libreria de sklearn model_selection test_split- \n",
    "\n",
    "- Train: Datos que se usaran para determinar los mejores parametros de nuestra red en el entrenamiento\n",
    "- Test: Datos que usaremos para evaluar el comportamiento del modelo frente a datos desconocidos \n",
    "\n",
    "La división de los datos se hara en una proporcion del 20% o 0.2 y con una semilla a 0 para hacer el modelo replicable"
   ]
  },
  {
   "cell_type": "code",
   "execution_count": 8,
   "metadata": {},
   "outputs": [
    {
     "name": "stdout",
     "output_type": "stream",
     "text": [
      "X_train (8000, 11), X_test(2000, 11), y_train(8000,), y_test(2000,)\n"
     ]
    }
   ],
   "source": [
    "from sklearn.model_selection import train_test_split\n",
    "X_train, X_test, y_train, y_test = train_test_split(X, y, test_size = 0.2, random_state = 0)\n",
    "print(f'X_train {X_train.shape}, X_test{X_test.shape}, y_train{y_train.shape}, y_test{y_test.shape}')"
   ]
  },
  {
   "cell_type": "markdown",
   "metadata": {},
   "source": [
    "### Normalizacioón de los datos.\n",
    "\n",
    "La normalización de los datos es un proceso basico para cualquier red neuronal. De esta manera evitamos que un modelo de mayor relevancia a un dato que a otro, solo por tener un valor neto más grande. "
   ]
  },
  {
   "cell_type": "code",
   "execution_count": 9,
   "metadata": {},
   "outputs": [],
   "source": [
    "from sklearn.preprocessing import StandardScaler\n",
    "#Creamos un objeto base para escalar las variables\n",
    "scaler = StandardScaler()\n",
    "X_train = scaler.fit_transform(X_train)\n",
    "#Usamos la misma base de escala para los datos de test pues pertenecen al mismo grupo\n",
    "X_test = scaler.fit_transform(X_test)"
   ]
  },
  {
   "cell_type": "markdown",
   "metadata": {},
   "source": [
    "**NOta 1:** Para la variable independiente no es necesario hacer este escalado, pues los datos son categoricos y este proceso no tiene sentido.\n",
    "**Nota 2:** Para algunos cientificos no es necesario escalar las variables categoricas pues se pierde el proceso de categorización. Para otros es necesario para mantener la escala entre los datos y mejorar el rendimiento al buscar los hiperparametros en el proceso de entrenamiento. Esto se deja a criterio del analista de los datos. "
   ]
  },
  {
   "cell_type": "markdown",
   "metadata": {},
   "source": [
    "## 2. Construir la red neuronal\n",
    "Las capas densas son capas con neuronas que se conectan todas con las neuronas de las capas layers contiguas."
   ]
  },
  {
   "cell_type": "code",
   "execution_count": 10,
   "metadata": {},
   "outputs": [],
   "source": [
    "from keras.layers import Dense\n",
    "from keras.models import Sequential"
   ]
  },
  {
   "cell_type": "code",
   "execution_count": 11,
   "metadata": {},
   "outputs": [],
   "source": [
    "#Crear un objeto contenedor de capas secuenciales\n",
    "model = Sequential()"
   ]
  },
  {
   "cell_type": "markdown",
   "metadata": {},
   "source": [
    "La primera capa requiere que se le agrege en la primera capa la informacion del numero de entradas, el cual es igual al número de variables independientes en este caso 11 y el número de neuronas en la primera capa oculta. De igual manera al declarar la capa Dense esta inicializa los pesos de la red con valores cercanos a cero de manera automatica. \n",
    "- units = neuronas de la capa oculta. En este caso usaremos la formula (#de entradas + #de salidas)/2 = (11+1)/2=6\n",
    "- kernel_initializer: Función para inicializar los pesos iniciales de la red neuronal. Glorot esta por defecto\n",
    "- activation = relu. Esta función indica cuando una neurona de una capa se activara. Este valor es común para todas las neuronas de una misma capa. \n",
    "- input_dim: 11 Es el número de variables de entrada. Remplaza input_shape = [11,6] el cual es un tensor y requiere se especifique el número de variables de entrada y el número de neuronas en la capa oculta. "
   ]
  },
  {
   "cell_type": "code",
   "execution_count": 12,
   "metadata": {},
   "outputs": [],
   "source": [
    "#Agregar primer capa densa\n",
    "#model.add(Dense(units=6, kernel_initializer = 'uniform', activation='relu',input_shape=[11,6]))\n",
    "model.add(Dense(units = 6, kernel_initializer = \"uniform\", activation = \"relu\", input_dim = 11))"
   ]
  },
  {
   "cell_type": "markdown",
   "metadata": {},
   "source": [
    "**Nota:** Indicar el número de variables de entrada solo es necesario en la primer capa de la RNE."
   ]
  },
  {
   "cell_type": "code",
   "execution_count": 13,
   "metadata": {},
   "outputs": [],
   "source": [
    "#Agregar la segunda capa oculta\n",
    "model.add(Dense(units=6, kernel_initializer = 'uniform', activation='relu'))"
   ]
  },
  {
   "cell_type": "markdown",
   "metadata": {},
   "source": [
    "La capa de salida debe tener solo el mismo número de neuronas que las variables de salida, en este caso 1 salida. Como el cliente desea saber cual es el porcentaje de probabilidad que un cliente se quede o se retire del banco, usaremos una activación que me entregue una probabilidad. Por tal motivo usaremos una activación *sigmoide*. \n",
    "\n",
    "**Nota:** Esto solo sirve para una clasificación binaria. Para usar tres o mas categorias requiere usar un escalon, una relu o si deseas usar la sigmoide requiere una capa adicional con una activación softmax para que los porcentajes probables de salida sumen uno"
   ]
  },
  {
   "cell_type": "code",
   "execution_count": 14,
   "metadata": {},
   "outputs": [],
   "source": [
    "#Agregar la capa de salida\n",
    "model.add(Dense(units=1, kernel_initializer = 'uniform', activation='sigmoid'))"
   ]
  },
  {
   "cell_type": "code",
   "execution_count": 15,
   "metadata": {},
   "outputs": [
    {
     "name": "stdout",
     "output_type": "stream",
     "text": [
      "Model: \"sequential\"\n",
      "_________________________________________________________________\n",
      "Layer (type)                 Output Shape              Param #   \n",
      "=================================================================\n",
      "dense (Dense)                (None, 6)                 72        \n",
      "_________________________________________________________________\n",
      "dense_1 (Dense)              (None, 6)                 42        \n",
      "_________________________________________________________________\n",
      "dense_2 (Dense)              (None, 1)                 7         \n",
      "=================================================================\n",
      "Total params: 121\n",
      "Trainable params: 121\n",
      "Non-trainable params: 0\n",
      "_________________________________________________________________\n"
     ]
    }
   ],
   "source": [
    "#Mostrar un resumen del modelo \n",
    "model.summary()"
   ]
  },
  {
   "cell_type": "markdown",
   "metadata": {},
   "source": [
    "## 3. Entrenar la red neuronal\n",
    "En esta etapa se **compila** el modelo. Al compilar el modelo, se inicializan los pesos con un kernel uniforme, se ejecuta la propagación hacia adelante y hacia atras. Los parametros del compilador son:\n",
    "- optimaizer: Optimizador que usaremos para llegar al optimo, por defecto tenemos el ADAM. Es el mas recomendable\n",
    "- loss: Función de perdida entre los datos calculados y el real. Usarmos las suma de cuadrados ordinarios. Usaremos binary_crossentropy, la cual hace la diferencia entre y con y_hat, le aplica un logaritmo y transforma las categorias a numeros. \n",
    "- metrics: A este parametro podemos solicitar que nos entregue tantas metricas de medida como queramos, debemos enviar los datos en un arreglo con las metricas a usar. El algoritmo intentara mejorar la metrica que enviemos en cada una de sus iteraciones. En este caso solo usaremos las presición accuracy. "
   ]
  },
  {
   "cell_type": "code",
   "execution_count": 16,
   "metadata": {},
   "outputs": [],
   "source": [
    "model.compile(optimizer = \"adam\", loss=\"binary_crossentropy\", metrics=[\"accuracy\"])"
   ]
  },
  {
   "cell_type": "markdown",
   "metadata": {},
   "source": [
    "### Entrenamiento o ajuste .fit\n",
    "Los argumentos están divididos como:\n",
    "- x= debe ser un arreglo con los datos correspondientes a los datos de entrenamiento para las variables independientes  X_train\n",
    "- y= debe ser un arreglo con los datos correspondientes a los datos de entrenamiento para la variable dependiente y_train\n",
    "- epochs = es la cantida de veces que deseamos que la red se re entrene. Si aplicamos demasiadas epocas tendremos un problema de overfit. \n",
    "- batch_size = al entrenar no pasamos todo el conjunto de datos en una sola epoca, para mejorar la eficiencia de computo enviamos los datos en tramos o divisiones. En este argumento indicamos la cantidad de datos en cada tramo. \n",
    "- validation_split = es recomendable usar un conjunto de validación que es tomado de los datos de train, este conjunto ayuda a mejorar el ajuste de los hiperparametros de la red en cada epoca. En este argumento podemos indicar el porcentaje de datos que usaremos en cada epoca como validation. Acepta valores entre 0 y 1. Se sugiere usar un 20% de los datos para validación.\n",
    "- validation_data = En caso de nosotros mismos tomar una cantida de datos previamente desde los valores de test, debemos entregarlos en forma de tensor en este argumento [X_val, y_val].\n",
    "- steps_per_epoch = Entero. Número total de pasos (lotes de muestras) a ceder del generador antes de declarar una época terminada y comenzar la siguiente época. Por lo general, debe ser igual a num_samples ó batch_size. Es opcional. Su función es mejorar el proceso de entrenamiento cuando la red no logra disminuir su porcentaje de perdida. \n",
    "- verbose = 1 para ver en pantalle el proceso de entrenamiento y 0 para ocultarlo. Por defecto esta en 1.\n",
    "\n",
    "**Nota:** Los datos de validación son opcionales para el comando fit. Para algunos analistas este conjunto es mas importante que el conjunto de test. Cuando la cantidad de datos son pocos, se sugiere usar solo los datos de validation y train.\n",
    "\n",
    "https://gombru.github.io/2018/05/23/cross_entropy_loss/"
   ]
  },
  {
   "cell_type": "code",
   "execution_count": 17,
   "metadata": {},
   "outputs": [
    {
     "name": "stdout",
     "output_type": "stream",
     "text": [
      "Epoch 1/100\n",
      "800/800 [==============================] - 0s 537us/step - loss: 0.5078 - accuracy: 0.7952\n",
      "Epoch 2/100\n",
      "800/800 [==============================] - 0s 464us/step - loss: 0.4228 - accuracy: 0.7960\n",
      "Epoch 3/100\n",
      "800/800 [==============================] - 0s 459us/step - loss: 0.4146 - accuracy: 0.7960\n",
      "Epoch 4/100\n",
      "800/800 [==============================] - 0s 455us/step - loss: 0.4068 - accuracy: 0.8001\n",
      "Epoch 5/100\n",
      "800/800 [==============================] - 0s 456us/step - loss: 0.3993 - accuracy: 0.8264\n",
      "Epoch 6/100\n",
      "800/800 [==============================] - 0s 458us/step - loss: 0.3926 - accuracy: 0.8288\n",
      "Epoch 7/100\n",
      "800/800 [==============================] - 0s 448us/step - loss: 0.3867 - accuracy: 0.8294\n",
      "Epoch 8/100\n",
      "800/800 [==============================] - 0s 454us/step - loss: 0.3811 - accuracy: 0.8394\n",
      "Epoch 9/100\n",
      "800/800 [==============================] - 0s 475us/step - loss: 0.3777 - accuracy: 0.8390\n",
      "Epoch 10/100\n",
      "800/800 [==============================] - 0s 462us/step - loss: 0.3740 - accuracy: 0.8451\n",
      "Epoch 11/100\n",
      "800/800 [==============================] - 0s 465us/step - loss: 0.3712 - accuracy: 0.8460\n",
      "Epoch 12/100\n",
      "800/800 [==============================] - 0s 454us/step - loss: 0.3684 - accuracy: 0.8487\n",
      "Epoch 13/100\n",
      "800/800 [==============================] - 0s 452us/step - loss: 0.3666 - accuracy: 0.8503\n",
      "Epoch 14/100\n",
      "800/800 [==============================] - 0s 475us/step - loss: 0.3640 - accuracy: 0.8531\n",
      "Epoch 15/100\n",
      "800/800 [==============================] - 0s 459us/step - loss: 0.3622 - accuracy: 0.8494\n",
      "Epoch 16/100\n",
      "800/800 [==============================] - 0s 463us/step - loss: 0.3599 - accuracy: 0.8537\n",
      "Epoch 17/100\n",
      "800/800 [==============================] - 0s 487us/step - loss: 0.3587 - accuracy: 0.8553\n",
      "Epoch 18/100\n",
      "800/800 [==============================] - 0s 481us/step - loss: 0.3577 - accuracy: 0.8547\n",
      "Epoch 19/100\n",
      "800/800 [==============================] - 0s 454us/step - loss: 0.3563 - accuracy: 0.8526\n",
      "Epoch 20/100\n",
      "800/800 [==============================] - 0s 483us/step - loss: 0.3555 - accuracy: 0.8549\n",
      "Epoch 21/100\n",
      "800/800 [==============================] - 0s 468us/step - loss: 0.3553 - accuracy: 0.8539\n",
      "Epoch 22/100\n",
      "800/800 [==============================] - 0s 454us/step - loss: 0.3537 - accuracy: 0.8566\n",
      "Epoch 23/100\n",
      "800/800 [==============================] - 0s 464us/step - loss: 0.3530 - accuracy: 0.8564\n",
      "Epoch 24/100\n",
      "800/800 [==============================] - 0s 468us/step - loss: 0.3533 - accuracy: 0.8547\n",
      "Epoch 25/100\n",
      "800/800 [==============================] - 0s 460us/step - loss: 0.3518 - accuracy: 0.8579\n",
      "Epoch 26/100\n",
      "800/800 [==============================] - 0s 466us/step - loss: 0.3518 - accuracy: 0.8590\n",
      "Epoch 27/100\n",
      "800/800 [==============================] - 0s 458us/step - loss: 0.3508 - accuracy: 0.8597\n",
      "Epoch 28/100\n",
      "800/800 [==============================] - 0s 451us/step - loss: 0.3509 - accuracy: 0.8584\n",
      "Epoch 29/100\n",
      "800/800 [==============================] - 0s 468us/step - loss: 0.3514 - accuracy: 0.8576\n",
      "Epoch 30/100\n",
      "800/800 [==============================] - 0s 467us/step - loss: 0.3501 - accuracy: 0.8595\n",
      "Epoch 31/100\n",
      "800/800 [==============================] - 0s 453us/step - loss: 0.3500 - accuracy: 0.8595\n",
      "Epoch 32/100\n",
      "800/800 [==============================] - 0s 457us/step - loss: 0.3494 - accuracy: 0.8577\n",
      "Epoch 33/100\n",
      "800/800 [==============================] - 0s 450us/step - loss: 0.3489 - accuracy: 0.8580\n",
      "Epoch 34/100\n",
      "800/800 [==============================] - 0s 440us/step - loss: 0.3498 - accuracy: 0.8596\n",
      "Epoch 35/100\n",
      "800/800 [==============================] - 0s 448us/step - loss: 0.3487 - accuracy: 0.8597\n",
      "Epoch 36/100\n",
      "800/800 [==============================] - 0s 456us/step - loss: 0.3487 - accuracy: 0.8594\n",
      "Epoch 37/100\n",
      "800/800 [==============================] - 0s 461us/step - loss: 0.3482 - accuracy: 0.8605\n",
      "Epoch 38/100\n",
      "800/800 [==============================] - 0s 469us/step - loss: 0.3481 - accuracy: 0.8600\n",
      "Epoch 39/100\n",
      "800/800 [==============================] - 0s 452us/step - loss: 0.3477 - accuracy: 0.8602\n",
      "Epoch 40/100\n",
      "800/800 [==============================] - 0s 457us/step - loss: 0.3476 - accuracy: 0.8604\n",
      "Epoch 41/100\n",
      "800/800 [==============================] - 0s 466us/step - loss: 0.3482 - accuracy: 0.8589\n",
      "Epoch 42/100\n",
      "800/800 [==============================] - 0s 452us/step - loss: 0.3476 - accuracy: 0.8597\n",
      "Epoch 43/100\n",
      "800/800 [==============================] - 0s 471us/step - loss: 0.3472 - accuracy: 0.8606\n",
      "Epoch 44/100\n",
      "800/800 [==============================] - 0s 462us/step - loss: 0.3474 - accuracy: 0.8587\n",
      "Epoch 45/100\n",
      "800/800 [==============================] - 0s 460us/step - loss: 0.3471 - accuracy: 0.8605\n",
      "Epoch 46/100\n",
      "800/800 [==============================] - 0s 450us/step - loss: 0.3463 - accuracy: 0.8586\n",
      "Epoch 47/100\n",
      "800/800 [==============================] - 0s 458us/step - loss: 0.3467 - accuracy: 0.8596\n",
      "Epoch 48/100\n",
      "800/800 [==============================] - 0s 457us/step - loss: 0.3460 - accuracy: 0.8597\n",
      "Epoch 49/100\n",
      "800/800 [==============================] - 0s 461us/step - loss: 0.3470 - accuracy: 0.8604\n",
      "Epoch 50/100\n",
      "800/800 [==============================] - 0s 448us/step - loss: 0.3461 - accuracy: 0.8579\n",
      "Epoch 51/100\n",
      "800/800 [==============================] - 0s 494us/step - loss: 0.3461 - accuracy: 0.8595\n",
      "Epoch 52/100\n",
      "800/800 [==============================] - 0s 468us/step - loss: 0.3460 - accuracy: 0.8585\n",
      "Epoch 53/100\n",
      "800/800 [==============================] - 0s 540us/step - loss: 0.3457 - accuracy: 0.8619\n",
      "Epoch 54/100\n",
      "800/800 [==============================] - 0s 514us/step - loss: 0.3458 - accuracy: 0.8593\n",
      "Epoch 55/100\n",
      "800/800 [==============================] - 0s 529us/step - loss: 0.3462 - accuracy: 0.8606\n",
      "Epoch 56/100\n",
      "800/800 [==============================] - 0s 462us/step - loss: 0.3457 - accuracy: 0.8595\n",
      "Epoch 57/100\n",
      "800/800 [==============================] - 0s 468us/step - loss: 0.3462 - accuracy: 0.8586\n",
      "Epoch 58/100\n",
      "800/800 [==============================] - 0s 469us/step - loss: 0.3451 - accuracy: 0.8619\n",
      "Epoch 59/100\n",
      "800/800 [==============================] - 0s 457us/step - loss: 0.3454 - accuracy: 0.8602\n",
      "Epoch 60/100\n",
      "800/800 [==============================] - 0s 452us/step - loss: 0.3455 - accuracy: 0.8621\n",
      "Epoch 61/100\n",
      "800/800 [==============================] - 0s 465us/step - loss: 0.3449 - accuracy: 0.8590\n",
      "Epoch 62/100\n",
      "800/800 [==============================] - 0s 449us/step - loss: 0.3454 - accuracy: 0.8590\n",
      "Epoch 63/100\n",
      "800/800 [==============================] - 0s 435us/step - loss: 0.3446 - accuracy: 0.8590\n",
      "Epoch 64/100\n",
      "800/800 [==============================] - 0s 490us/step - loss: 0.3452 - accuracy: 0.8591\n",
      "Epoch 65/100\n",
      "800/800 [==============================] - 0s 465us/step - loss: 0.3452 - accuracy: 0.8579\n",
      "Epoch 66/100\n",
      "800/800 [==============================] - 0s 536us/step - loss: 0.3452 - accuracy: 0.8585\n",
      "Epoch 67/100\n",
      "800/800 [==============================] - 0s 519us/step - loss: 0.3453 - accuracy: 0.8599\n",
      "Epoch 68/100\n",
      "800/800 [==============================] - 0s 531us/step - loss: 0.3452 - accuracy: 0.8600\n",
      "Epoch 69/100\n",
      "800/800 [==============================] - 0s 457us/step - loss: 0.3439 - accuracy: 0.8610\n",
      "Epoch 70/100\n",
      "800/800 [==============================] - 0s 454us/step - loss: 0.3453 - accuracy: 0.8599\n",
      "Epoch 71/100\n",
      "800/800 [==============================] - 0s 457us/step - loss: 0.3445 - accuracy: 0.8609\n",
      "Epoch 72/100\n",
      "800/800 [==============================] - 0s 451us/step - loss: 0.3443 - accuracy: 0.8584\n",
      "Epoch 73/100\n",
      "800/800 [==============================] - 0s 451us/step - loss: 0.3447 - accuracy: 0.8601\n",
      "Epoch 74/100\n",
      "800/800 [==============================] - 0s 446us/step - loss: 0.3445 - accuracy: 0.8586\n",
      "Epoch 75/100\n",
      "800/800 [==============================] - 0s 454us/step - loss: 0.3449 - accuracy: 0.8594\n",
      "Epoch 76/100\n",
      "800/800 [==============================] - 0s 455us/step - loss: 0.3448 - accuracy: 0.8611\n",
      "Epoch 77/100\n",
      "800/800 [==============================] - 0s 462us/step - loss: 0.3444 - accuracy: 0.8602\n",
      "Epoch 78/100\n",
      "800/800 [==============================] - 0s 461us/step - loss: 0.3437 - accuracy: 0.8615\n",
      "Epoch 79/100\n"
     ]
    },
    {
     "name": "stdout",
     "output_type": "stream",
     "text": [
      "800/800 [==============================] - 0s 443us/step - loss: 0.3435 - accuracy: 0.8610\n",
      "Epoch 80/100\n",
      "800/800 [==============================] - 0s 457us/step - loss: 0.3443 - accuracy: 0.8619\n",
      "Epoch 81/100\n",
      "800/800 [==============================] - 0s 454us/step - loss: 0.3439 - accuracy: 0.8612\n",
      "Epoch 82/100\n",
      "800/800 [==============================] - 0s 446us/step - loss: 0.3440 - accuracy: 0.8569\n",
      "Epoch 83/100\n",
      "800/800 [==============================] - 0s 448us/step - loss: 0.3442 - accuracy: 0.8600\n",
      "Epoch 84/100\n",
      "800/800 [==============================] - 0s 446us/step - loss: 0.3435 - accuracy: 0.8630\n",
      "Epoch 85/100\n",
      "800/800 [==============================] - 0s 446us/step - loss: 0.3438 - accuracy: 0.8601\n",
      "Epoch 86/100\n",
      "800/800 [==============================] - 0s 439us/step - loss: 0.3438 - accuracy: 0.8601\n",
      "Epoch 87/100\n",
      "800/800 [==============================] - 0s 439us/step - loss: 0.3442 - accuracy: 0.8606\n",
      "Epoch 88/100\n",
      "800/800 [==============================] - 0s 445us/step - loss: 0.3441 - accuracy: 0.8602\n",
      "Epoch 89/100\n",
      "800/800 [==============================] - 0s 442us/step - loss: 0.3436 - accuracy: 0.8605\n",
      "Epoch 90/100\n",
      "800/800 [==============================] - 0s 435us/step - loss: 0.3437 - accuracy: 0.8586\n",
      "Epoch 91/100\n",
      "800/800 [==============================] - 0s 454us/step - loss: 0.3438 - accuracy: 0.8615\n",
      "Epoch 92/100\n",
      "800/800 [==============================] - 0s 449us/step - loss: 0.3434 - accuracy: 0.8621\n",
      "Epoch 93/100\n",
      "800/800 [==============================] - 0s 447us/step - loss: 0.3444 - accuracy: 0.8597\n",
      "Epoch 94/100\n",
      "800/800 [==============================] - 0s 452us/step - loss: 0.3437 - accuracy: 0.8610\n",
      "Epoch 95/100\n",
      "800/800 [==============================] - 0s 456us/step - loss: 0.3435 - accuracy: 0.8611\n",
      "Epoch 96/100\n",
      "800/800 [==============================] - 0s 463us/step - loss: 0.3434 - accuracy: 0.8581\n",
      "Epoch 97/100\n",
      "800/800 [==============================] - 0s 456us/step - loss: 0.3434 - accuracy: 0.8594\n",
      "Epoch 98/100\n",
      "800/800 [==============================] - 0s 446us/step - loss: 0.3425 - accuracy: 0.8619\n",
      "Epoch 99/100\n",
      "800/800 [==============================] - 0s 442us/step - loss: 0.3433 - accuracy: 0.8601\n",
      "Epoch 100/100\n",
      "800/800 [==============================] - 0s 456us/step - loss: 0.3435 - accuracy: 0.8608\n"
     ]
    },
    {
     "data": {
      "text/plain": [
       "<tensorflow.python.keras.callbacks.History at 0x25064f81af0>"
      ]
     },
     "execution_count": 17,
     "metadata": {},
     "output_type": "execute_result"
    }
   ],
   "source": [
    "model.fit(X_train, y_train,  batch_size = 10, epochs = 100)"
   ]
  },
  {
   "cell_type": "markdown",
   "metadata": {},
   "source": [
    "## Evaluar el modelo y predecir datos.\n",
    "Es momento de verificar el comportamiento de la red neuronal con datos desconocidos. Es recomendable guardar los resultados Y_hat para hacer análisis de los resultados. En este caso los valores que tenemos son probabilidades. Un metodo para definir que clientes abandonaran los datos podemos usar un porcentaje umbral. Entre mas alto es el porcentaje medido, sera mas probable que el cliente abandone el banco. Generalmente es necesario acordar este umbral con el banco. "
   ]
  },
  {
   "cell_type": "code",
   "execution_count": 18,
   "metadata": {},
   "outputs": [],
   "source": [
    "y_hat = model.predict(X_test)"
   ]
  },
  {
   "cell_type": "code",
   "execution_count": 19,
   "metadata": {},
   "outputs": [
    {
     "data": {
      "text/plain": [
       "(2000, 1)"
      ]
     },
     "execution_count": 19,
     "metadata": {},
     "output_type": "execute_result"
    }
   ],
   "source": [
    "y_hat.shape"
   ]
  },
  {
   "cell_type": "markdown",
   "metadata": {},
   "source": [
    "#### Matriz de confusión\n",
    "Es un metodo para evaluar el comportamiento del modelo propuesto. Es necesario trabajar con valores categoricos, por lo tanto aplicaremos un umbral del 50% para definir los clientes que abandonan o no el banco. Y así medir la tasa de falsos positivos, falsos negativos y aciertos que ha logrado obtener nuestro modelo. "
   ]
  },
  {
   "cell_type": "code",
   "execution_count": 20,
   "metadata": {},
   "outputs": [
    {
     "name": "stdout",
     "output_type": "stream",
     "text": [
      "[[False]\n",
      " [False]\n",
      " [False]\n",
      " [False]]\n"
     ]
    }
   ],
   "source": [
    "#Convertir a categorias nuestros resultados 1 abandona, 0 se mantiene el cliente en el banco\n",
    "y_hat = (y_hat>0.5)\n",
    "print(y_hat[1:5,:])"
   ]
  },
  {
   "cell_type": "code",
   "execution_count": 21,
   "metadata": {},
   "outputs": [
    {
     "name": "stdout",
     "output_type": "stream",
     "text": [
      "0.8605\n"
     ]
    }
   ],
   "source": [
    "from sklearn.metrics import confusion_matrix\n",
    "cm = confusion_matrix(y_test, y_hat)\n",
    "print((cm[0][0]+cm[1][1])/cm.sum())"
   ]
  },
  {
   "cell_type": "markdown",
   "metadata": {},
   "source": [
    "#### Grafica matriz de confusión\n",
    "La matriz de confusión se puede representar de manera grafica. En su diagonla principal se presentan los valores correctamente predichos. Se ordena como:\n",
    "\n",
    "|                      |                      |\n",
    "| :------------------: | :------------------: |\n",
    "| Verdaderos-positivos | Falsos-negativos     |\n",
    "| Falsos-negativos     | Verdaderos-negativos |\n"
   ]
  },
  {
   "cell_type": "code",
   "execution_count": 22,
   "metadata": {},
   "outputs": [
    {
     "data": {
      "image/png": "[encoded data removed]",
      "text/plain": [
       "<Figure size 432x288 with 2 Axes>"
      ]
     },
     "metadata": {
      "needs_background": "light"
     },
     "output_type": "display_data"
    }
   ],
   "source": [
    "from sklearn.metrics import ConfusionMatrixDisplay\n",
    "cm_display = ConfusionMatrixDisplay(cm).plot()"
   ]
  }
 ],
 "metadata": {
  "kernelspec": {
   "display_name": "Python 3",
   "language": "python",
   "name": "python3"
  },
  "language_info": {
   "codemirror_mode": {
    "name": "ipython",
    "version": 3
   },
   "file_extension": ".py",
   "mimetype": "text/x-python",
   "name": "python",
   "nbconvert_exporter": "python",
   "pygments_lexer": "ipython3",
   "version": "3.8.3"
  }
 },
 "nbformat": 4,
 "nbformat_minor": 4
}
